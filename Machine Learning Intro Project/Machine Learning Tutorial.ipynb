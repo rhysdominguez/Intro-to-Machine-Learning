{
 "cells": [
  {
   "cell_type": "code",
   "execution_count": 74,
   "metadata": {},
   "outputs": [
    {
     "data": {
      "text/plain": [
       "array(['Classical', 'Dance', 'Classical', 'Classical'], dtype=object)"
      ]
     },
     "execution_count": 74,
     "metadata": {},
     "output_type": "execute_result"
    }
   ],
   "source": [
    "import pandas as pd\n",
    "from sklearn.tree import DecisionTreeClassifier\n",
    "from sklearn.model_selection import train_test_split\n",
    "from sklearn.metrics import accuracy_score\n",
    "\n",
    "music_data = pd.read_csv('music.csv') #open csv\n",
    "\n",
    "#assign X and y data: \n",
    "X = music_data.drop(columns=['genre']) \n",
    "y = music_data['genre']\n",
    "\n",
    "X_train, X_test, y_train, y_test = train_test_split(X, y, test_size=0.2) #Break X and y data into train and test data\n",
    "\n",
    "model = DecisionTreeClassifier() #Assigning DecisionTreeClassifier to a variable\n",
    "\n",
    "model.fit(X_train, y_train) #Build your decision tree using X/y training data\n",
    "\n",
    "predictions = model.predict(X_test) #predictions = results from decision tree classifier using test data\n",
    "\n",
    "score = accuracy_score(y_test, predictions) #shows how accurate your model's predictions are to the real data\n"
   ]
  }
 ],
 "metadata": {
  "kernelspec": {
   "display_name": "Python 3",
   "language": "python",
   "name": "python3"
  },
  "language_info": {
   "codemirror_mode": {
    "name": "ipython",
    "version": 3
   },
   "file_extension": ".py",
   "mimetype": "text/x-python",
   "name": "python",
   "nbconvert_exporter": "python",
   "pygments_lexer": "ipython3",
   "version": "3.8.3"
  }
 },
 "nbformat": 4,
 "nbformat_minor": 4
}
